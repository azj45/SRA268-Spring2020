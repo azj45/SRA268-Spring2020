{
  "nbformat": 4,
  "nbformat_minor": 0,
  "metadata": {
    "colab": {
      "name": "Jones Lab2Template.ipynb",
      "provenance": [],
      "include_colab_link": true
    },
    "kernelspec": {
      "name": "python3",
      "display_name": "Python 3"
    }
  },
  "cells": [
    {
      "cell_type": "markdown",
      "metadata": {
        "id": "view-in-github",
        "colab_type": "text"
      },
      "source": [
        "<a href=\"https://colab.research.google.com/github/azj45/SRA268-Spring2020/blob/master/Jones_Lab2Template.ipynb\" target=\"_parent\"><img src=\"https://colab.research.google.com/assets/colab-badge.svg\" alt=\"Open In Colab\"/></a>"
      ]
    },
    {
      "cell_type": "markdown",
      "metadata": {
        "id": "6sOc4Uyr4U-Z",
        "colab_type": "text"
      },
      "source": [
        "## Graph Types"
      ]
    },
    {
      "cell_type": "markdown",
      "metadata": {
        "id": "0zZdVLAd5CYr",
        "colab_type": "text"
      },
      "source": [
        "Creator\n",
        "* Avery Jones"
      ]
    },
    {
      "cell_type": "markdown",
      "metadata": {
        "id": "g-r6Clq45Hn4",
        "colab_type": "text"
      },
      "source": [
        "### Deviation\n"
      ]
    },
    {
      "cell_type": "markdown",
      "metadata": {
        "id": "rvf6ZGajCYFp",
        "colab_type": "text"
      },
      "source": [
        "![alt text](https://raw.githubusercontent.com/azj45/SRA268-Spring2020/master/images/Screen%20Shot%202020-02-21%20at%207.24.31%20AM.png)"
      ]
    },
    {
      "cell_type": "markdown",
      "metadata": {
        "id": "w6bZ_NEi7E3w",
        "colab_type": "text"
      },
      "source": [
        "#### What is this telling us?"
      ]
    },
    {
      "cell_type": "markdown",
      "metadata": {
        "id": "95L-spaC7QHF",
        "colab_type": "text"
      },
      "source": [
        "This first graph is the deviation graph. This diverging bar graph compares the winning mascot with the win points and lose points. For the most part when comparing the win and lose points they are very similar or identical to each other. However, the different mascots do have varyig amounts of points, with the Bulldog team having the most, while some teams have barely any. This graph is telling us how much all the winning mascot's teams have points and how they are distributed through them. This grapg was able to show that there are about five teams that have the majority of the win and lose points, while the rest barely have any. "
      ]
    },
    {
      "cell_type": "markdown",
      "metadata": {
        "id": "YgXyXjmz7cDP",
        "colab_type": "text"
      },
      "source": [
        "### Correlation\n"
      ]
    },
    {
      "cell_type": "markdown",
      "metadata": {
        "id": "SGx15rZq7hvt",
        "colab_type": "text"
      },
      "source": [
        "![alt text](https://raw.githubusercontent.com/azj45/SRA268-Spring2020/master/images/Screen%20Shot%202020-02-21%20at%207.43.06%20AM.png)"
      ]
    },
    {
      "cell_type": "markdown",
      "metadata": {
        "id": "dljjONNi7jmj",
        "colab_type": "text"
      },
      "source": [
        "#### What is this telling us?"
      ]
    },
    {
      "cell_type": "markdown",
      "metadata": {
        "id": "PwZEZrFB7laG",
        "colab_type": "text"
      },
      "source": [
        "This correlation graph is a line plot comparing the win points with the win seed. The plot is showing that with more win ponts you win seed will be lower, which is what you want, while if you have less win points the team is placed lower on the win seed. There does seem to be a little variation when the graph gets to win seed eleven, which I was not expecting. I was expecting for this line plot to be very straight, since the main factor in win seed is the amount of win points, but there are other factors that could affect it. "
      ]
    },
    {
      "cell_type": "markdown",
      "metadata": {
        "id": "MqUdI-uL7r2s",
        "colab_type": "text"
      },
      "source": [
        "### Ranking\n"
      ]
    },
    {
      "cell_type": "markdown",
      "metadata": {
        "id": "AvlxCOVt7x9F",
        "colab_type": "text"
      },
      "source": [
        "![alt text](https://raw.githubusercontent.com/azj45/SRA268-Spring2020/master/images/Screen%20Shot%202020-02-21%20at%207.52.00%20AM.png)"
      ]
    },
    {
      "cell_type": "markdown",
      "metadata": {
        "id": "lCAYtfza7yTq",
        "colab_type": "text"
      },
      "source": [
        "#### What is this telling us?"
      ]
    },
    {
      "cell_type": "markdown",
      "metadata": {
        "id": "MyuciD277ygU",
        "colab_type": "text"
      },
      "source": [
        "This ranking graph is a order bar graph of the win points and the winning mascots. They are ordered in ascending order with the mascots witht the most points at the top. On this graph, we are able to see that the Wildcat's nteam has the most winning points. We could infer from this graph that the Wildcats is the best team, with the Bulldog team being the second best. When the graph gets down to the Red Russian Boar and the other tams below it, there is not vary much variation in the amount of win points they all have, but I am not sure what causes this. "
      ]
    },
    {
      "cell_type": "markdown",
      "metadata": {
        "id": "dGDGl8-G7y8Y",
        "colab_type": "text"
      },
      "source": [
        "### Distribution\n"
      ]
    },
    {
      "cell_type": "markdown",
      "metadata": {
        "id": "FB0uV-jy76p9",
        "colab_type": "text"
      },
      "source": [
        "![alt text](https://raw.githubusercontent.com/azj45/SRA268-Spring2020/master/images/Screen%20Shot%202020-02-21%20at%207.55.33%20AM.png)"
      ]
    },
    {
      "cell_type": "markdown",
      "metadata": {
        "id": "_6SOzhrQ76zH",
        "colab_type": "text"
      },
      "source": [
        "#### What is this telling us?"
      ]
    },
    {
      "cell_type": "markdown",
      "metadata": {
        "id": "HBWqsS_g767h",
        "colab_type": "text"
      },
      "source": [
        "This distribution graoh is a histogram of the win points. With this graph we are able to see that around Win points(bin) 70-80 that win points reaches its max of about 600 points, whcih seems like a lot, but when there are many teams fightig for these points it does not seem as large. I was sulrised to see how much distribution there was of the points overall, but I also did not expect to see so many centrally location, I believed they would have been more equally spread out. It woud be interesting to then make a histogram of each team's points to see how they compare overall."
      ]
    },
    {
      "cell_type": "markdown",
      "metadata": {
        "id": "wQsDThk677Fy",
        "colab_type": "text"
      },
      "source": [
        "### Change over Time\n"
      ]
    },
    {
      "cell_type": "markdown",
      "metadata": {
        "id": "Z1j_YLOA7_OK",
        "colab_type": "text"
      },
      "source": [
        "![alt text](https://raw.githubusercontent.com/azj45/SRA268-Spring2020/master/images/Screen%20Shot%202020-02-21%20at%208.02.36%20AM.png)"
      ]
    },
    {
      "cell_type": "markdown",
      "metadata": {
        "id": "mpfsmmgi7_Vj",
        "colab_type": "text"
      },
      "source": [
        "#### What is this telling us?"
      ]
    },
    {
      "cell_type": "markdown",
      "metadata": {
        "id": "rYLXoMMO7_di",
        "colab_type": "text"
      },
      "source": [
        "This graph is the change over time graph, which is a line plot. While this graph may seem similar to the correlation graph, it is not. This graph shows how the amount of lose points you have and change your lose seed over time. I did not expect to see that there was very little differnce in how much it changes the seed except for the first few seeds. If your team is placed in the first few lose seeds, but then you continue to lose, your team will drop in seeds much fast than if they were in a lower seed and continued to lose."
      ]
    },
    {
      "cell_type": "markdown",
      "metadata": {
        "id": "lFwiHoE-7_jZ",
        "colab_type": "text"
      },
      "source": [
        "### Magnitude\n"
      ]
    },
    {
      "cell_type": "markdown",
      "metadata": {
        "id": "ICQFnXj78EbF",
        "colab_type": "text"
      },
      "source": [
        "![alt text](https://raw.githubusercontent.com/azj45/SRA268-Spring2020/master/images/Screen%20Shot%202020-02-21%20at%208.07.18%20AM.png)"
      ]
    },
    {
      "cell_type": "markdown",
      "metadata": {
        "id": "QGG7XYG88Eii",
        "colab_type": "text"
      },
      "source": [
        "#### What is this telling us?"
      ]
    },
    {
      "cell_type": "markdown",
      "metadata": {
        "id": "VS7uGa0l8Eos",
        "colab_type": "text"
      },
      "source": [
        "This graph is to show you the magnitude of the amount of overtimes there was in year. While this graph does not have very many numbers and specifics for it, it is very important, especially for those who are visual people, to be able to see how the larger circles and smaller circles compare. I was suprised when I saw how there actually was some variation in the size of the circles and how some are so small, I expected to see about the some amount of overtimes in each year, when in reality there are actually very differing amounts. "
      ]
    },
    {
      "cell_type": "markdown",
      "metadata": {
        "id": "bEKFxP8R8Evk",
        "colab_type": "text"
      },
      "source": [
        "### Part-to-Whole\n"
      ]
    },
    {
      "cell_type": "markdown",
      "metadata": {
        "id": "WFHlcYKV8E35",
        "colab_type": "text"
      },
      "source": [
        "![alt text](https://raw.githubusercontent.com/azj45/SRA268-Spring2020/master/images/Screen%20Shot%202020-02-21%20at%208.11.02%20AM.png)"
      ]
    },
    {
      "cell_type": "markdown",
      "metadata": {
        "id": "PNSd3wlp8UZH",
        "colab_type": "text"
      },
      "source": [
        "#### What is this telling us?"
      ]
    },
    {
      "cell_type": "markdown",
      "metadata": {
        "id": "y9tb_QRA8aqt",
        "colab_type": "text"
      },
      "source": [
        "This pie chart is the Part-to- Whole graph explaing how many points each team has. While there does not seem the very much difference in the amount of points each team has, it is important to remember that there are very many teams squeezed into one pie chart, which could disorient the view. However, the pie chart does make it easy to recognize how many teams there actually are and to see how they are such a small part to the whole. These part-to-whole graphs are very important, especially in instances such as this one when there are so many parts amking up one whole and you otherwise would not be able to visualize it."
      ]
    }
  ]
}