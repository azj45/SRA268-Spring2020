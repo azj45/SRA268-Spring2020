{
  "nbformat": 4,
  "nbformat_minor": 0,
  "metadata": {
    "colab": {
      "name": "Lab 1",
      "provenance": [],
      "authorship_tag": "ABX9TyPY83yHt+o26gSbA5Rhj0QK",
      "include_colab_link": true
    },
    "kernelspec": {
      "name": "python3",
      "display_name": "Python 3"
    }
  },
  "cells": [
    {
      "cell_type": "markdown",
      "metadata": {
        "id": "view-in-github",
        "colab_type": "text"
      },
      "source": [
        "<a href=\"https://colab.research.google.com/github/azj45/SRA268-Spring2020/blob/master/Lab_1.ipynb\" target=\"_parent\"><img src=\"https://colab.research.google.com/assets/colab-badge.svg\" alt=\"Open In Colab\"/></a>"
      ]
    },
    {
      "cell_type": "markdown",
      "metadata": {
        "id": "mu6_ePjw525D",
        "colab_type": "text"
      },
      "source": [
        "# Name "
      ]
    },
    {
      "cell_type": "markdown",
      "metadata": {
        "id": "ien1ewAe6DZs",
        "colab_type": "text"
      },
      "source": [
        "# Outline"
      ]
    },
    {
      "cell_type": "markdown",
      "metadata": {
        "id": "DqqdxWkk6aps",
        "colab_type": "text"
      },
      "source": [
        "![no image here](https://raw.githubusercontent.com/azj45/SRA268-Spring2020/master/images/beach%20pic.jpg) "
      ]
    },
    {
      "cell_type": "markdown",
      "metadata": {
        "id": "uMrkwRfY6H3k",
        "colab_type": "text"
      },
      "source": [
        "# Sketch"
      ]
    },
    {
      "cell_type": "markdown",
      "metadata": {
        "id": "Z_gmsgQI6K_e",
        "colab_type": "text"
      },
      "source": [
        "# Conclusion"
      ]
    }
  ]
}