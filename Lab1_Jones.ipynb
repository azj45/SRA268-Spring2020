{
  "nbformat": 4,
  "nbformat_minor": 0,
  "metadata": {
    "colab": {
      "name": "Lab1 Jones",
      "provenance": []
    },
    "kernelspec": {
      "name": "python3",
      "display_name": "Python 3"
    }
  },
  "cells": [
    {
      "cell_type": "markdown",
      "metadata": {
        "id": "dU-taCdHBojy",
        "colab_type": "text"
      },
      "source": [
        "### Min Temperture Change During the First 20 Days \n",
        "\n"
      ]
    },
    {
      "cell_type": "markdown",
      "metadata": {
        "id": "y3VGxjWBFiyL",
        "colab_type": "text"
      },
      "source": [
        "### Description"
      ]
    },
    {
      "cell_type": "markdown",
      "metadata": {
        "id": "WNnyn8pZEJlg",
        "colab_type": "text"
      },
      "source": [
        "By graphing these numbers out, we will be able to identify if there are any possible patterns in the changes of the temperature and be able to see by how many degress they are changing by. Also, the graph will allow weather experts to decide what a normal or expected minimum temperature is."
      ]
    },
    {
      "cell_type": "markdown",
      "metadata": {
        "id": "Kkgd4G0nFeKj",
        "colab_type": "text"
      },
      "source": [
        "### Sketch"
      ]
    },
    {
      "cell_type": "markdown",
      "metadata": {
        "id": "XhKN2MZtGm37",
        "colab_type": "text"
      },
      "source": [
        "![alt text](https://raw.githubusercontent.com/azj45/SRA268-Spring2020/master/images/IMG_0522.jpg.jpeg)"
      ]
    },
    {
      "cell_type": "markdown",
      "metadata": {
        "id": "FDQkfZNKIwzj",
        "colab_type": "text"
      },
      "source": [
        "### Conclusion"
      ]
    },
    {
      "cell_type": "markdown",
      "metadata": {
        "id": "l2KrYcCgI5qd",
        "colab_type": "text"
      },
      "source": [
        "In conclusion, during the first 20 days of January 2017, the minimum temperatures change very drastically and in no consistent order. While there are highs and lows in the temperatures there is no way to predict, based on the graph, when they are coming and how extreme they could be. The graph does allows us to see these changes and to know what extremes are possible in January. "
      ]
    }
  ]
}